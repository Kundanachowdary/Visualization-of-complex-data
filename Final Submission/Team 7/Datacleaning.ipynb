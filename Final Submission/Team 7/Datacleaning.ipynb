{
 "cells": [
  {
   "cell_type": "code",
   "execution_count": 1,
   "metadata": {},
   "outputs": [],
   "source": [
    "import pandas as pd\n",
    "\n",
    "# Load the dataset\n",
    "file_path = '/Users/jagadeeshwark/Downloads/Crime_Data_from_2020_to_Present_20240428.csv'\n",
    "data = pd.read_csv(file_path)"
   ]
  },
  {
   "cell_type": "code",
   "execution_count": 2,
   "metadata": {},
   "outputs": [],
   "source": [
    "# Define a function to correct the time format\n",
    "def correct_time_format(time_str):\n",
    "    # If the time is '1', replace with '11:00'\n",
    "    if time_str == '1':\n",
    "        return '1100'\n",
    "    # Make sure the time is in 'HHMM' format\n",
    "    return time_str.zfill(4)\n",
    "\n",
    "# Apply the function to the 'TIME OCC' column\n",
    "data['TIME OCC'] = data['TIME OCC'].astype(str).apply(correct_time_format)\n",
    "data['TIME OCC'] = pd.to_datetime(data['TIME OCC'], format='%H%M').dt.time"
   ]
  },
  {
   "cell_type": "code",
   "execution_count": 4,
   "metadata": {},
   "outputs": [],
   "source": [
    "\n",
    "# Columns to be removed\n",
    "columns_to_remove = ['Crm Cd 2', 'Crm Cd 3', 'Crm Cd 4', 'Cross Street', 'Mocodes']\n",
    "\n",
    "# Drop the specified columns\n",
    "data_cleaned = data.drop(columns=columns_to_remove)\n"
   ]
  },
  {
   "cell_type": "code",
   "execution_count": 12,
   "metadata": {},
   "outputs": [
    {
     "name": "stdout",
     "output_type": "stream",
     "text": [
      "Cleaned dataset saved to /Users/jagadeeshwark/Documents/GWU/DATA VISUALIZATION/ Cleaneddataset.csv\n"
     ]
    }
   ],
   "source": [
    "# Save the cleaned dataset to a new CSV file\n",
    "cleaned_file_path = '/Users/jagadeeshwark/Documents/GWU/DATA VISUALIZATION/ Cleaneddataset.csv'\n",
    "data_cleaned.to_csv(cleaned_file_path, index=False)\n",
    "\n",
    "print(f\"Cleaned dataset saved to {cleaned_file_path}\")"
   ]
  }
 ],
 "metadata": {
  "kernelspec": {
   "display_name": "Python 3",
   "language": "python",
   "name": "python3"
  },
  "language_info": {
   "codemirror_mode": {
    "name": "ipython",
    "version": 3
   },
   "file_extension": ".py",
   "mimetype": "text/x-python",
   "name": "python",
   "nbconvert_exporter": "python",
   "pygments_lexer": "ipython3",
   "version": "3.11.5"
  },
  "orig_nbformat": 4
 },
 "nbformat": 4,
 "nbformat_minor": 2
}
